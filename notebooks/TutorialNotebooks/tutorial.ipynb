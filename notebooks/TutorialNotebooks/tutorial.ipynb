{
 "metadata": {
  "language_info": {
   "codemirror_mode": {
    "name": "ipython",
    "version": 3
   },
   "file_extension": ".py",
   "mimetype": "text/x-python",
   "name": "python",
   "nbconvert_exporter": "python",
   "pygments_lexer": "ipython3",
   "version": "3.7.8-final"
  },
  "orig_nbformat": 2,
  "kernelspec": {
   "name": "python3",
   "display_name": "Python 3"
  }
 },
 "nbformat": 4,
 "nbformat_minor": 2,
 "cells": [
  {
   "cell_type": "code",
   "execution_count": 2,
   "metadata": {
    "tags": []
   },
   "outputs": [
    {
     "output_type": "stream",
     "name": "stdout",
     "text": "Today is:2020-08-23 00:34:27.492290\n"
    }
   ],
   "source": [
    "from datetime import datetime\n",
    "print (\"Today is:\" + str(datetime.now()))"
   ]
  },
  {
   "cell_type": "code",
   "execution_count": 3,
   "metadata": {},
   "outputs": [
    {
     "output_type": "execute_result",
     "data": {
      "text/plain": "'Hi, Curious! Welcome to the Jupyter Notebooks tutorial!'"
     },
     "metadata": {},
     "execution_count": 3
    }
   ],
   "source": [
    "def say_hello(recipient):\n",
    "    return 'Hi, {}!'.format(recipient)\n",
    "say_hello('Curious') + \" Welcome to the Jupyter Notebooks tutorial!\""
   ]
  },
  {
   "cell_type": "code",
   "execution_count": 4,
   "metadata": {
    "tags": []
   },
   "outputs": [
    {
     "output_type": "stream",
     "name": "stdout",
     "text": "You can use the awesome numpy to do things like:\nThe square of 7 is: 49\n"
    }
   ],
   "source": [
    "import numpy as np\n",
    "def square(x):\n",
    "    return x * x\n",
    "print (\"You can use the awesome numpy to do things like:\")\n",
    "x = np.random.randint(1, 10)\n",
    "print (\"The square of {} is: \".format(x) + str(square(x)))"
   ]
  },
  {
   "cell_type": "code",
   "execution_count": 5,
   "metadata": {
    "tags": []
   },
   "outputs": [
    {
     "output_type": "execute_result",
     "data": {
      "text/plain": "             User Name First Name Last Name     Display Name   Job Title  \\\n0    chris@contoso.com      Chris     Green      Chris Green  IT Manager   \n1      ben@contoso.com        Ben   Andrews      Ben Andrews  IT Manager   \n2    david@contoso.com      David  Longmuir   David Longmuir  IT Manager   \n3  cynthia@contoso.com    Cynthia     Carey    Cynthia Carey  IT Manager   \n4  melissa@contoso.com    Melissa   MacBeth  Melissa MacBeth  IT Manager   \n\n               Department  Office Number  Office Phone  Mobile Phone  \\\n0  Information Technology         123451  123-555-1211  123-555-6641   \n1  Information Technology         123452  123-555-1212  123-555-6642   \n2  Information Technology         123453  123-555-1213  123-555-6643   \n3  Information Technology         123454  123-555-1214  123-555-6644   \n4  Information Technology         123455  123-555-1215  123-555-6645   \n\n            Fax          Address     City State or Province  \\\n0  123-555-9821  1 Microsoft way  Redmond                Wa   \n1  123-555-9822  1 Microsoft way  Redmond                Wa   \n2  123-555-9823  1 Microsoft way  Redmond                Wa   \n3  123-555-9824  1 Microsoft way  Redmond                Wa   \n4  123-555-9825  1 Microsoft way  Redmond                Wa   \n\n   ZIP or Postal Code Country or Region  \n0               98052     United States  \n1               98052     United States  \n2               98052     United States  \n3               98052     United States  \n4               98052     United States  ",
      "text/html": "<div>\n<style scoped>\n    .dataframe tbody tr th:only-of-type {\n        vertical-align: middle;\n    }\n\n    .dataframe tbody tr th {\n        vertical-align: top;\n    }\n\n    .dataframe thead th {\n        text-align: right;\n    }\n</style>\n<table border=\"1\" class=\"dataframe\">\n  <thead>\n    <tr style=\"text-align: right;\">\n      <th></th>\n      <th>User Name</th>\n      <th>First Name</th>\n      <th>Last Name</th>\n      <th>Display Name</th>\n      <th>Job Title</th>\n      <th>Department</th>\n      <th>Office Number</th>\n      <th>Office Phone</th>\n      <th>Mobile Phone</th>\n      <th>Fax</th>\n      <th>Address</th>\n      <th>City</th>\n      <th>State or Province</th>\n      <th>ZIP or Postal Code</th>\n      <th>Country or Region</th>\n    </tr>\n  </thead>\n  <tbody>\n    <tr>\n      <th>0</th>\n      <td>chris@contoso.com</td>\n      <td>Chris</td>\n      <td>Green</td>\n      <td>Chris Green</td>\n      <td>IT Manager</td>\n      <td>Information Technology</td>\n      <td>123451</td>\n      <td>123-555-1211</td>\n      <td>123-555-6641</td>\n      <td>123-555-9821</td>\n      <td>1 Microsoft way</td>\n      <td>Redmond</td>\n      <td>Wa</td>\n      <td>98052</td>\n      <td>United States</td>\n    </tr>\n    <tr>\n      <th>1</th>\n      <td>ben@contoso.com</td>\n      <td>Ben</td>\n      <td>Andrews</td>\n      <td>Ben Andrews</td>\n      <td>IT Manager</td>\n      <td>Information Technology</td>\n      <td>123452</td>\n      <td>123-555-1212</td>\n      <td>123-555-6642</td>\n      <td>123-555-9822</td>\n      <td>1 Microsoft way</td>\n      <td>Redmond</td>\n      <td>Wa</td>\n      <td>98052</td>\n      <td>United States</td>\n    </tr>\n    <tr>\n      <th>2</th>\n      <td>david@contoso.com</td>\n      <td>David</td>\n      <td>Longmuir</td>\n      <td>David Longmuir</td>\n      <td>IT Manager</td>\n      <td>Information Technology</td>\n      <td>123453</td>\n      <td>123-555-1213</td>\n      <td>123-555-6643</td>\n      <td>123-555-9823</td>\n      <td>1 Microsoft way</td>\n      <td>Redmond</td>\n      <td>Wa</td>\n      <td>98052</td>\n      <td>United States</td>\n    </tr>\n    <tr>\n      <th>3</th>\n      <td>cynthia@contoso.com</td>\n      <td>Cynthia</td>\n      <td>Carey</td>\n      <td>Cynthia Carey</td>\n      <td>IT Manager</td>\n      <td>Information Technology</td>\n      <td>123454</td>\n      <td>123-555-1214</td>\n      <td>123-555-6644</td>\n      <td>123-555-9824</td>\n      <td>1 Microsoft way</td>\n      <td>Redmond</td>\n      <td>Wa</td>\n      <td>98052</td>\n      <td>United States</td>\n    </tr>\n    <tr>\n      <th>4</th>\n      <td>melissa@contoso.com</td>\n      <td>Melissa</td>\n      <td>MacBeth</td>\n      <td>Melissa MacBeth</td>\n      <td>IT Manager</td>\n      <td>Information Technology</td>\n      <td>123455</td>\n      <td>123-555-1215</td>\n      <td>123-555-6645</td>\n      <td>123-555-9825</td>\n      <td>1 Microsoft way</td>\n      <td>Redmond</td>\n      <td>Wa</td>\n      <td>98052</td>\n      <td>United States</td>\n    </tr>\n  </tbody>\n</table>\n</div>"
     },
     "metadata": {},
     "execution_count": 5
    }
   ],
   "source": [
    "import os\n",
    "import pandas as pd\n",
    "import matplotlib.pyplot as plt\n",
    "import seaborn as sns\n",
    "sns.set(style=\"darkgrid\")\n",
    "\n",
    "df = pd.read_csv(os.getcwd() + '/TutorialNotebooks/UserSample.csv')\n",
    "df.head()\n"
   ]
  },
  {
   "cell_type": "code",
   "execution_count": 6,
   "metadata": {
    "tags": []
   },
   "outputs": [
    {
     "output_type": "stream",
     "name": "stdout",
     "text": "Total records: 5\n"
    },
    {
     "output_type": "execute_result",
     "data": {
      "text/plain": "User Name             object\nFirst Name            object\nLast Name             object\nDisplay Name          object\nJob Title             object\nDepartment            object\nOffice Number          int64\nOffice Phone          object\nMobile Phone          object\nFax                   object\nAddress               object\nCity                  object\nState or Province     object\nZIP or Postal Code     int64\nCountry or Region     object\ndtype: object"
     },
     "metadata": {},
     "execution_count": 6
    }
   ],
   "source": [
    "print (\"Total records: \" + str(len(df)))\n",
    "df.dtypes\n"
   ]
  },
  {
   "cell_type": "code",
   "execution_count": null,
   "metadata": {},
   "outputs": [],
   "source": []
  }
 ]
}